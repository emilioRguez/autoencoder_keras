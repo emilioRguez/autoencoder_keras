{
  "nbformat": 4,
  "nbformat_minor": 0,
  "metadata": {
    "colab": {
      "name": "autoencoder.ipynb",
      "provenance": [],
      "collapsed_sections": []
    },
    "kernelspec": {
      "name": "python3",
      "display_name": "Python 3"
    }
  },
  "cells": [
    {
      "cell_type": "code",
      "metadata": {
        "id": "kzM6H4vuO8hp",
        "colab_type": "code",
        "colab": {
          "base_uri": "https://localhost:8080/",
          "height": 35
        },
        "outputId": "5f70af67-6450-4a1e-c3e6-f0c43013089f"
      },
      "source": [
        "import numpy as np\n",
        "from keras.layers import Input, Dense\n",
        "from keras.models import Model\n",
        "from keras.datasets import mnist\n",
        "import matplotlib.pyplot as plt"
      ],
      "execution_count": 2,
      "outputs": [
        {
          "output_type": "stream",
          "text": [
            "Using TensorFlow backend.\n"
          ],
          "name": "stderr"
        }
      ]
    },
    {
      "cell_type": "markdown",
      "metadata": {
        "id": "RXTWN-109sw9",
        "colab_type": "text"
      },
      "source": [
        "Decalaration hidden layers and variables"
      ]
    },
    {
      "cell_type": "code",
      "metadata": {
        "id": "YjYIn0Kq6W2K",
        "colab_type": "code",
        "colab": {
          "base_uri": "https://localhost:8080/",
          "height": 266
        },
        "outputId": "06e439c7-b48a-467b-9e10-4227b11d4dc5"
      },
      "source": [
        "# this is the size of our encoded representations\n",
        "encoding_dim = 32 # 32 floats -> compression of factor 24.5, assuming the input is 784 floats\n",
        " \n",
        "# this is our input placeholder\n",
        "input_img = Input(shape=(784,))\n",
        "# \"encoded\" is the encoded representation of the input\n",
        "encoded = Dense(encoding_dim, activation='relu')(input_img)\n",
        "# \"decoded\" is the lossy reconstruction of the input\n",
        "decoded = Dense(784, activation='sigmoid')(encoded)\n",
        "# this model maps an input to its reconstruction\n",
        "autoencoder = Model(input_img, decoded)\n",
        "autoencoder.summary()\n",
        "# this model maps an input to its encoded representation\n",
        "encoder = Model(input_img, encoded)\n",
        "# create a placeholder for an encoded (32-dimensional) input\n",
        "encoded_input = Input(shape=(encoding_dim,))\n",
        "# retrieve the last layer of the autoencoder model\n",
        "decoder_layer = autoencoder.layers[-1]\n",
        "# create the decoder model\n",
        "decoder = Model(encoded_input, decoder_layer(encoded_input))\n",
        "# configure our model to use a per-pixel binary crossentropy loss, and the Adadelta optimizer:\n",
        "autoencoder.compile(optimizer='adadelta', loss='binary_crossentropy')"
      ],
      "execution_count": 3,
      "outputs": [
        {
          "output_type": "stream",
          "text": [
            "Model: \"model_1\"\n",
            "_________________________________________________________________\n",
            "Layer (type)                 Output Shape              Param #   \n",
            "=================================================================\n",
            "input_1 (InputLayer)         (None, 784)               0         \n",
            "_________________________________________________________________\n",
            "dense_1 (Dense)              (None, 32)                25120     \n",
            "_________________________________________________________________\n",
            "dense_2 (Dense)              (None, 784)               25872     \n",
            "=================================================================\n",
            "Total params: 50,992\n",
            "Trainable params: 50,992\n",
            "Non-trainable params: 0\n",
            "_________________________________________________________________\n"
          ],
          "name": "stdout"
        }
      ]
    },
    {
      "cell_type": "markdown",
      "metadata": {
        "id": "6YK9kHAZ919o",
        "colab_type": "text"
      },
      "source": [
        "Preparig input data (MINIST Dataset)"
      ]
    },
    {
      "cell_type": "code",
      "metadata": {
        "id": "MV6b8V7h6g3-",
        "colab_type": "code",
        "colab": {
          "base_uri": "https://localhost:8080/",
          "height": 959
        },
        "outputId": "9041699d-f54c-4267-c46a-ec65958b400c"
      },
      "source": [
        "(x_train, _), (x_test, _) = mnist.load_data()\n",
        "# normalize all values between 0 and 1 and we will flatten the 28x28 images into vectors of size 784.\n",
        "x_train = x_train.astype('float32') / 255.\n",
        "x_test = x_test.astype('float32') / 255.\n",
        "x_train = x_train.reshape((len(x_train), np.prod(x_train.shape[1:])))\n",
        "x_test = x_test.reshape((len(x_test), np.prod(x_test.shape[1:])))\n",
        "print(x_train.shape)\n",
        "print(x_test.shape)"
      ],
      "execution_count": 4,
      "outputs": [
        {
          "output_type": "stream",
          "text": [
            "Downloading data from https://s3.amazonaws.com/img-datasets/mnist.npz\n",
            "11493376/11490434 [==============================] - 0s 0us/step\n",
            "[[[0 0 0 ... 0 0 0]\n",
            "  [0 0 0 ... 0 0 0]\n",
            "  [0 0 0 ... 0 0 0]\n",
            "  ...\n",
            "  [0 0 0 ... 0 0 0]\n",
            "  [0 0 0 ... 0 0 0]\n",
            "  [0 0 0 ... 0 0 0]]\n",
            "\n",
            " [[0 0 0 ... 0 0 0]\n",
            "  [0 0 0 ... 0 0 0]\n",
            "  [0 0 0 ... 0 0 0]\n",
            "  ...\n",
            "  [0 0 0 ... 0 0 0]\n",
            "  [0 0 0 ... 0 0 0]\n",
            "  [0 0 0 ... 0 0 0]]\n",
            "\n",
            " [[0 0 0 ... 0 0 0]\n",
            "  [0 0 0 ... 0 0 0]\n",
            "  [0 0 0 ... 0 0 0]\n",
            "  ...\n",
            "  [0 0 0 ... 0 0 0]\n",
            "  [0 0 0 ... 0 0 0]\n",
            "  [0 0 0 ... 0 0 0]]\n",
            "\n",
            " ...\n",
            "\n",
            " [[0 0 0 ... 0 0 0]\n",
            "  [0 0 0 ... 0 0 0]\n",
            "  [0 0 0 ... 0 0 0]\n",
            "  ...\n",
            "  [0 0 0 ... 0 0 0]\n",
            "  [0 0 0 ... 0 0 0]\n",
            "  [0 0 0 ... 0 0 0]]\n",
            "\n",
            " [[0 0 0 ... 0 0 0]\n",
            "  [0 0 0 ... 0 0 0]\n",
            "  [0 0 0 ... 0 0 0]\n",
            "  ...\n",
            "  [0 0 0 ... 0 0 0]\n",
            "  [0 0 0 ... 0 0 0]\n",
            "  [0 0 0 ... 0 0 0]]\n",
            "\n",
            " [[0 0 0 ... 0 0 0]\n",
            "  [0 0 0 ... 0 0 0]\n",
            "  [0 0 0 ... 0 0 0]\n",
            "  ...\n",
            "  [0 0 0 ... 0 0 0]\n",
            "  [0 0 0 ... 0 0 0]\n",
            "  [0 0 0 ... 0 0 0]]]\n",
            "(60000, 784)\n",
            "(10000, 784)\n"
          ],
          "name": "stdout"
        }
      ]
    },
    {
      "cell_type": "markdown",
      "metadata": {
        "id": "Fo-xb4Hy-Qrh",
        "colab_type": "text"
      },
      "source": [
        "Training Autoencoder for  epochs"
      ]
    },
    {
      "cell_type": "code",
      "metadata": {
        "id": "ylm01qJw-MR3",
        "colab_type": "code",
        "colab": {
          "base_uri": "https://localhost:8080/",
          "height": 1000
        },
        "outputId": "02b1a67e-0e2e-4a35-ec7b-ae1ef7d362f5"
      },
      "source": [
        "autoencoder.fit(x_train, x_train,\n",
        "epochs=50,\n",
        "batch_size=256,\n",
        "shuffle=True,\n",
        "validation_data=(x_test, x_test))\n",
        "# encode and decode some digits\n",
        "# note that we take them from the *test* set\n",
        "encoded_imgs = encoder.predict(x_test)\n",
        "decoded_imgs = decoder.predict(encoded_imgs)"
      ],
      "execution_count": 6,
      "outputs": [
        {
          "output_type": "stream",
          "text": [
            "Train on 60000 samples, validate on 10000 samples\n",
            "Epoch 1/50\n",
            "60000/60000 [==============================] - 3s 46us/step - loss: 0.3621 - val_loss: 0.2722\n",
            "Epoch 2/50\n",
            "60000/60000 [==============================] - 2s 41us/step - loss: 0.2657 - val_loss: 0.2558\n",
            "Epoch 3/50\n",
            "60000/60000 [==============================] - 3s 42us/step - loss: 0.2458 - val_loss: 0.2341\n",
            "Epoch 4/50\n",
            "60000/60000 [==============================] - 2s 41us/step - loss: 0.2265 - val_loss: 0.2169\n",
            "Epoch 5/50\n",
            "60000/60000 [==============================] - 2s 42us/step - loss: 0.2116 - val_loss: 0.2041\n",
            "Epoch 6/50\n",
            "60000/60000 [==============================] - 2s 41us/step - loss: 0.2002 - val_loss: 0.1938\n",
            "Epoch 7/50\n",
            "60000/60000 [==============================] - 2s 41us/step - loss: 0.1910 - val_loss: 0.1854\n",
            "Epoch 8/50\n",
            "60000/60000 [==============================] - 2s 41us/step - loss: 0.1833 - val_loss: 0.1783\n",
            "Epoch 9/50\n",
            "60000/60000 [==============================] - 2s 41us/step - loss: 0.1767 - val_loss: 0.1722\n",
            "Epoch 10/50\n",
            "60000/60000 [==============================] - 3s 42us/step - loss: 0.1709 - val_loss: 0.1668\n",
            "Epoch 11/50\n",
            "60000/60000 [==============================] - 3s 42us/step - loss: 0.1656 - val_loss: 0.1616\n",
            "Epoch 12/50\n",
            "60000/60000 [==============================] - 2s 41us/step - loss: 0.1609 - val_loss: 0.1573\n",
            "Epoch 13/50\n",
            "60000/60000 [==============================] - 3s 42us/step - loss: 0.1567 - val_loss: 0.1532\n",
            "Epoch 14/50\n",
            "60000/60000 [==============================] - 3s 42us/step - loss: 0.1529 - val_loss: 0.1496\n",
            "Epoch 15/50\n",
            "60000/60000 [==============================] - 3s 42us/step - loss: 0.1494 - val_loss: 0.1461\n",
            "Epoch 16/50\n",
            "60000/60000 [==============================] - 2s 42us/step - loss: 0.1462 - val_loss: 0.1432\n",
            "Epoch 17/50\n",
            "60000/60000 [==============================] - 3s 43us/step - loss: 0.1432 - val_loss: 0.1403\n",
            "Epoch 18/50\n",
            "60000/60000 [==============================] - 2s 42us/step - loss: 0.1404 - val_loss: 0.1375\n",
            "Epoch 19/50\n",
            "60000/60000 [==============================] - 3s 42us/step - loss: 0.1379 - val_loss: 0.1350\n",
            "Epoch 20/50\n",
            "60000/60000 [==============================] - 3s 42us/step - loss: 0.1355 - val_loss: 0.1327\n",
            "Epoch 21/50\n",
            "60000/60000 [==============================] - 3s 42us/step - loss: 0.1332 - val_loss: 0.1305\n",
            "Epoch 22/50\n",
            "60000/60000 [==============================] - 3s 42us/step - loss: 0.1310 - val_loss: 0.1283\n",
            "Epoch 23/50\n",
            "60000/60000 [==============================] - 3s 42us/step - loss: 0.1290 - val_loss: 0.1262\n",
            "Epoch 24/50\n",
            "60000/60000 [==============================] - 3s 42us/step - loss: 0.1270 - val_loss: 0.1244\n",
            "Epoch 25/50\n",
            "60000/60000 [==============================] - 3s 44us/step - loss: 0.1251 - val_loss: 0.1225\n",
            "Epoch 26/50\n",
            "60000/60000 [==============================] - 3s 42us/step - loss: 0.1233 - val_loss: 0.1207\n",
            "Epoch 27/50\n",
            "60000/60000 [==============================] - 3s 42us/step - loss: 0.1215 - val_loss: 0.1191\n",
            "Epoch 28/50\n",
            "60000/60000 [==============================] - 3s 42us/step - loss: 0.1199 - val_loss: 0.1174\n",
            "Epoch 29/50\n",
            "60000/60000 [==============================] - 3s 42us/step - loss: 0.1184 - val_loss: 0.1160\n",
            "Epoch 30/50\n",
            "60000/60000 [==============================] - 3s 42us/step - loss: 0.1170 - val_loss: 0.1146\n",
            "Epoch 31/50\n",
            "60000/60000 [==============================] - 3s 44us/step - loss: 0.1156 - val_loss: 0.1133\n",
            "Epoch 32/50\n",
            "60000/60000 [==============================] - 3s 46us/step - loss: 0.1144 - val_loss: 0.1121\n",
            "Epoch 33/50\n",
            "60000/60000 [==============================] - 3s 44us/step - loss: 0.1132 - val_loss: 0.1110\n",
            "Epoch 34/50\n",
            "60000/60000 [==============================] - 3s 42us/step - loss: 0.1122 - val_loss: 0.1100\n",
            "Epoch 35/50\n",
            "60000/60000 [==============================] - 3s 42us/step - loss: 0.1112 - val_loss: 0.1090\n",
            "Epoch 36/50\n",
            "60000/60000 [==============================] - 3s 42us/step - loss: 0.1103 - val_loss: 0.1081\n",
            "Epoch 37/50\n",
            "60000/60000 [==============================] - 3s 42us/step - loss: 0.1094 - val_loss: 0.1073\n",
            "Epoch 38/50\n",
            "60000/60000 [==============================] - 3s 42us/step - loss: 0.1086 - val_loss: 0.1065\n",
            "Epoch 39/50\n",
            "60000/60000 [==============================] - 2s 41us/step - loss: 0.1078 - val_loss: 0.1058\n",
            "Epoch 40/50\n",
            "60000/60000 [==============================] - 2s 41us/step - loss: 0.1071 - val_loss: 0.1051\n",
            "Epoch 41/50\n",
            "60000/60000 [==============================] - 3s 42us/step - loss: 0.1065 - val_loss: 0.1045\n",
            "Epoch 42/50\n",
            "60000/60000 [==============================] - 2s 42us/step - loss: 0.1059 - val_loss: 0.1039\n",
            "Epoch 43/50\n",
            "60000/60000 [==============================] - 3s 42us/step - loss: 0.1053 - val_loss: 0.1033\n",
            "Epoch 44/50\n",
            "60000/60000 [==============================] - 3s 42us/step - loss: 0.1047 - val_loss: 0.1028\n",
            "Epoch 45/50\n",
            "60000/60000 [==============================] - 3s 42us/step - loss: 0.1042 - val_loss: 0.1023\n",
            "Epoch 46/50\n",
            "60000/60000 [==============================] - 3s 43us/step - loss: 0.1037 - val_loss: 0.1018\n",
            "Epoch 47/50\n",
            "60000/60000 [==============================] - 3s 43us/step - loss: 0.1033 - val_loss: 0.1014\n",
            "Epoch 48/50\n",
            "60000/60000 [==============================] - 3s 43us/step - loss: 0.1028 - val_loss: 0.1010\n",
            "Epoch 49/50\n",
            "60000/60000 [==============================] - 3s 42us/step - loss: 0.1024 - val_loss: 0.1006\n",
            "Epoch 50/50\n",
            "60000/60000 [==============================] - 3s 42us/step - loss: 0.1020 - val_loss: 0.1002\n"
          ],
          "name": "stdout"
        }
      ]
    },
    {
      "cell_type": "code",
      "metadata": {
        "id": "_PgqZmLk-hT8",
        "colab_type": "code",
        "colab": {
          "base_uri": "https://localhost:8080/",
          "height": 1000
        },
        "outputId": "66bf5fe6-d58c-47d4-aa1c-94c0ad523b34"
      },
      "source": [
        "n = 10 # how many digits we will display\n",
        "plt.figure(figsize=(30, 10))\n",
        "for i in range(n):\n",
        "    # display original\n",
        "    ax = plt.subplot(2, n, i + 1)\n",
        "    plt.imshow(x_test[i].reshape(28, 28))\n",
        "    plt.gray()\n",
        "    # ax.get_xaxis().set_visible(False)\n",
        "    # ax.get_yaxis().set_visible(False)\n",
        " \n",
        " \n",
        "    # display reconstruction\n",
        "    print(\"reconstructed\")\n",
        "    ax = plt.subplot(2, n, i + 1 + n)\n",
        "    plt.imshow(decoded_imgs[i].reshape(28, 28))\n",
        "    plt.gray()\n",
        "    # ax.get_xaxis().set_visible(False)\n",
        "    # ax.get_yaxis().set_visible(False)\n",
        "    plt.show()"
      ],
      "execution_count": 13,
      "outputs": [
        {
          "output_type": "stream",
          "text": [
            "reconstructed\n"
          ],
          "name": "stdout"
        },
        {
          "output_type": "display_data",
          "data": {
            "image/png": "[encoded data removed]",
            "text/plain": [
              "<Figure size 2160x720 with 2 Axes>"
            ]
          },
          "metadata": {
            "tags": [],
            "needs_background": "light"
          }
        },
        {
          "output_type": "stream",
          "text": [
            "reconstructed\n"
          ],
          "name": "stdout"
        },
        {
          "output_type": "display_data",
          "data": {
            "image/png": "[encoded data removed]",
            "text/plain": [
              "<Figure size 432x288 with 2 Axes>"
            ]
          },
          "metadata": {
            "tags": [],
            "needs_background": "light"
          }
        },
        {
          "output_type": "stream",
          "text": [
            "reconstructed\n"
          ],
          "name": "stdout"
        },
        {
          "output_type": "display_data",
          "data": {
            "image/png": "[encoded data removed]",
            "text/plain": [
              "<Figure size 432x288 with 2 Axes>"
            ]
          },
          "metadata": {
            "tags": [],
            "needs_background": "light"
          }
        },
        {
          "output_type": "stream",
          "text": [
            "reconstructed\n"
          ],
          "name": "stdout"
        },
        {
          "output_type": "display_data",
          "data": {
            "image/png": "[encoded data removed]",
            "text/plain": [
              "<Figure size 432x288 with 2 Axes>"
            ]
          },
          "metadata": {
            "tags": [],
            "needs_background": "light"
          }
        },
        {
          "output_type": "stream",
          "text": [
            "reconstructed\n"
          ],
          "name": "stdout"
        },
        {
          "output_type": "display_data",
          "data": {
            "image/png": "[encoded data removed]",
            "text/plain": [
              "<Figure size 432x288 with 2 Axes>"
            ]
          },
          "metadata": {
            "tags": [],
            "needs_background": "light"
          }
        },
        {
          "output_type": "stream",
          "text": [
            "reconstructed\n"
          ],
          "name": "stdout"
        },
        {
          "output_type": "display_data",
          "data": {
            "image/png": "[encoded data removed]",
            "text/plain": [
              "<Figure size 432x288 with 2 Axes>"
            ]
          },
          "metadata": {
            "tags": [],
            "needs_background": "light"
          }
        },
        {
          "output_type": "stream",
          "text": [
            "reconstructed\n"
          ],
          "name": "stdout"
        },
        {
          "output_type": "display_data",
          "data": {
            "image/png": "[encoded data removed]",
            "text/plain": [
              "<Figure size 432x288 with 2 Axes>"
            ]
          },
          "metadata": {
            "tags": [],
            "needs_background": "light"
          }
        },
        {
          "output_type": "stream",
          "text": [
            "reconstructed\n"
          ],
          "name": "stdout"
        },
        {
          "output_type": "display_data",
          "data": {
            "image/png": "[encoded data removed]",
            "text/plain": [
              "<Figure size 432x288 with 2 Axes>"
            ]
          },
          "metadata": {
            "tags": [],
            "needs_background": "light"
          }
        },
        {
          "output_type": "stream",
          "text": [
            "reconstructed\n"
          ],
          "name": "stdout"
        },
        {
          "output_type": "display_data",
          "data": {
            "image/png": "[encoded data removed]",
            "text/plain": [
              "<Figure size 432x288 with 2 Axes>"
            ]
          },
          "metadata": {
            "tags": [],
            "needs_background": "light"
          }
        },
        {
          "output_type": "stream",
          "text": [
            "reconstructed\n"
          ],
          "name": "stdout"
        },
        {
          "output_type": "display_data",
          "data": {
            "image/png": "[encoded data removed]",
            "text/plain": [
              "<Figure size 432x288 with 2 Axes>"
            ]
          },
          "metadata": {
            "tags": [],
            "needs_background": "light"
          }
        }
      ]
    }
  ]
}